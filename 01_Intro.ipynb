{
 "cells": [
  {
   "cell_type": "markdown",
   "id": "73ed95cc",
   "metadata": {},
   "source": [
    "## 파이썬 기본 문법"
   ]
  },
  {
   "cell_type": "markdown",
   "id": "00163c1b",
   "metadata": {},
   "source": [
    "### 1) 변수&자료형"
   ]
  },
  {
   "cell_type": "code",
   "execution_count": null,
   "id": "6d760764",
   "metadata": {},
   "outputs": [],
   "source": [
    "message=\"hello\"\n",
    "num1=7\n",
    "num2=3.5"
   ]
  },
  {
   "cell_type": "markdown",
   "id": "f16b91bc",
   "metadata": {},
   "source": [
    "### 2) 출력&입력"
   ]
  },
  {
   "cell_type": "code",
   "execution_count": null,
   "id": "eb4249c4",
   "metadata": {},
   "outputs": [],
   "source": [
    "# 입력\n",
    "user_message=input('메시지를 입력하세요: ')"
   ]
  },
  {
   "cell_type": "code",
   "execution_count": null,
   "id": "7d9bd493",
   "metadata": {},
   "outputs": [
    {
     "name": "stdout",
     "output_type": "stream",
     "text": [
      "안녕하세요!\n"
     ]
    }
   ],
   "source": [
    "# 출력력\n",
    "print(user_message)"
   ]
  },
  {
   "cell_type": "markdown",
   "id": "73bb6a96",
   "metadata": {},
   "source": [
    "### 3) 조건문&반복문"
   ]
  },
  {
   "cell_type": "code",
   "execution_count": null,
   "id": "c341dbb3",
   "metadata": {},
   "outputs": [
    {
     "name": "stdout",
     "output_type": "stream",
     "text": [
      "당신이 이겼습니다\n"
     ]
    }
   ],
   "source": [
    "# 조건문\n",
    "user=input(\"가위/바위/보 중 하나를 내세요: \")\n",
    "comp=\"바위\"\n",
    "\n",
    "if user==\"가위\":\n",
    "    print(\"당신이 졌습니다\")\n",
    "elif user==\"바위\":\n",
    "    print(\"비겼습니다\")\n",
    "else:\n",
    "    print(\"당신이 이겼습니다\")"
   ]
  },
  {
   "cell_type": "code",
   "execution_count": null,
   "id": "e7603d15",
   "metadata": {},
   "outputs": [
    {
     "name": "stdout",
     "output_type": "stream",
     "text": [
      "Hello world\n",
      "Hello world\n",
      "Hello world\n",
      "Hello world\n",
      "Hello world\n"
     ]
    }
   ],
   "source": [
    "# 반복문\n",
    "for i in range(0, 5): \n",
    "    print(\"Hello world\")"
   ]
  },
  {
   "cell_type": "code",
   "execution_count": 8,
   "id": "53d5af2c",
   "metadata": {},
   "outputs": [
    {
     "name": "stdout",
     "output_type": "stream",
     "text": [
      "0\n",
      "1\n",
      "2\n",
      "3\n",
      "4\n"
     ]
    }
   ],
   "source": [
    "for i in range(0, 5):\n",
    "    print(i)"
   ]
  },
  {
   "cell_type": "code",
   "execution_count": 9,
   "id": "96aa7b72",
   "metadata": {},
   "outputs": [
    {
     "name": "stdout",
     "output_type": "stream",
     "text": [
      "Hello wold!\n",
      "Hello wold!\n",
      "Hello wold!\n",
      "Hello wold!\n",
      "Hello wold!\n"
     ]
    }
   ],
   "source": [
    "i=0\n",
    "while i<5:\n",
    "    print(\"Hello wold!\")\n",
    "    i+=1"
   ]
  },
  {
   "cell_type": "markdown",
   "id": "023179a0",
   "metadata": {},
   "source": [
    "### 4) 자료구조"
   ]
  },
  {
   "cell_type": "code",
   "execution_count": 11,
   "id": "b4689919",
   "metadata": {},
   "outputs": [
    {
     "name": "stdout",
     "output_type": "stream",
     "text": [
      "87\n",
      "90\n"
     ]
    }
   ],
   "source": [
    "# 리스트\n",
    "student_score=[87, 90, 66, 75, 91]\n",
    "print(student_score[0])\n",
    "print(student_score[1])"
   ]
  },
  {
   "cell_type": "code",
   "execution_count": 13,
   "id": "e4d4d8bb",
   "metadata": {},
   "outputs": [
    {
     "name": "stdout",
     "output_type": "stream",
     "text": [
      "87\n",
      "90\n",
      "66\n",
      "75\n",
      "91\n"
     ]
    }
   ],
   "source": [
    "for i in range(len(student_score)):\n",
    "    print(student_score[i])"
   ]
  },
  {
   "cell_type": "code",
   "execution_count": 14,
   "id": "33af35fe",
   "metadata": {},
   "outputs": [
    {
     "name": "stdout",
     "output_type": "stream",
     "text": [
      "87\n",
      "90\n",
      "66\n",
      "75\n",
      "91\n"
     ]
    }
   ],
   "source": [
    "for score in student_score:\n",
    "    print(score)"
   ]
  },
  {
   "cell_type": "code",
   "execution_count": 16,
   "id": "7ef9d718",
   "metadata": {},
   "outputs": [
    {
     "name": "stdout",
     "output_type": "stream",
     "text": [
      "5\n",
      "[1, 2, 'a', 'bcd', 123, 'new data']\n",
      "[6, 3]\n",
      "[2, 3, 4, 5, 6]\n"
     ]
    }
   ],
   "source": [
    "# 리스트 주요기능\n",
    "a=[1, 2, 'a', 'bcd', 123]   # []로 표현되며, 다양한 자료형의 데이터를 담을 수 있다\n",
    "print(len(a))               # 리스트의 길이를 알 수 있다\n",
    "\n",
    "a.append('new data')        # 새로운 데이터를 추가할 수 있으며, 리스트의 맨 뒤에 추가\n",
    "print(a)\n",
    "\n",
    "nums=[5, 6, 3, 2, 4]\n",
    "print(nums[1:3])            # 1번째 이상, 3번째 미만 범위의 리스트 출력\n",
    "\n",
    "nums.sort()                 # 리스트를 오름차순으로 정렬\n",
    "print(nums)"
   ]
  },
  {
   "cell_type": "code",
   "execution_count": 20,
   "id": "ee70dde3",
   "metadata": {},
   "outputs": [
    {
     "name": "stdout",
     "output_type": "stream",
     "text": [
      "30\n",
      "dict_keys(['Alice', 'BoB', 35, 70, 'class', 'John'])\n",
      "dict_values([30, 60, 'fail', 'success', 'best', 50])\n",
      "Alice 30\n",
      "BoB 60\n",
      "35 fail\n",
      "70 success\n",
      "class best\n",
      "John 50\n"
     ]
    }
   ],
   "source": [
    "# 딕셔너리\n",
    "my_dict={'Alice': 30, 'BoB': 60, 35: 'fail', 70: 'success', 'class': 'best'}\n",
    "                                # {}로 표현하며, 좌측에 '키', 오른쪽에 '값'을 :로 구분\n",
    "print(my_dict['Alice'])\n",
    "my_dict['John']=50              # 새로운 데이터를 추가할 때 키, 값을 입력하여 추가\n",
    "print(my_dict.keys())           # 딕셔너리의 키만 뽑을 수 있다\n",
    "print(my_dict.values())         # 딕셔너리의 값만 뽑을 수 있다\n",
    "\n",
    "for key, val in my_dict.items():    # 딕셔너리의 키-값 쌍은 items()로 확인가능\n",
    "    print(key, val)"
   ]
  },
  {
   "cell_type": "code",
   "execution_count": 21,
   "id": "a83c6110",
   "metadata": {},
   "outputs": [
    {
     "name": "stdout",
     "output_type": "stream",
     "text": [
      "30\n",
      "50\n"
     ]
    }
   ],
   "source": [
    "# 튜플\n",
    "my_data=(30, 50)            # 튜플은 ()로 표현\n",
    "print(my_data[0])           # 값에 접근하는 방식은 리스트와 동일\n",
    "print(my_data[1])"
   ]
  },
  {
   "cell_type": "markdown",
   "id": "3f7c56f6",
   "metadata": {},
   "source": [
    "### 5) 함수"
   ]
  },
  {
   "cell_type": "code",
   "execution_count": null,
   "id": "6d15a1ab",
   "metadata": {},
   "outputs": [
    {
     "name": "stdout",
     "output_type": "stream",
     "text": [
      "11\n"
     ]
    }
   ],
   "source": [
    "# 함수 정의\n",
    "def sum(a, b):\n",
    "    result=a+b\n",
    "    return result\n",
    "\n",
    "num1=int(input())\n",
    "num2=int(input())\n",
    "print(sum(num1, num2))"
   ]
  },
  {
   "cell_type": "markdown",
   "id": "50956a75",
   "metadata": {},
   "source": [
    "### 6) 클래스"
   ]
  },
  {
   "cell_type": "code",
   "execution_count": 28,
   "id": "0b6ac81a",
   "metadata": {},
   "outputs": [
    {
     "name": "stdout",
     "output_type": "stream",
     "text": [
      "지존짱짱\n",
      "100\n",
      "I can walk\n",
      "Magic\n"
     ]
    }
   ],
   "source": [
    "class Human():                  # 클래스\n",
    "    hp=100                      # 속성\n",
    "    name='기본 이름'\n",
    "    \n",
    "    def walk(self):             # 메서드\n",
    "        print(\"I can walk\")\n",
    "        \n",
    "class Wizard(Human):            # 부모 클래스 상속\n",
    "    def __init__(self, name):   # 생성자(초기값 설정)\n",
    "        self.name=name\n",
    "    def magic(self):\n",
    "        print(\"Magic\")\n",
    "        \n",
    "my_char=Wizard(\"지존짱짱\")      # 객체를 생성할 때 클래스 이름으로 생성\n",
    "                                # 클래스 이름을 생성자로 사용\n",
    "                                \n",
    "print(my_char.name)             # '객체.속성'으로 속성값 출력\n",
    "                                # 기본 이름이 아닌 설정한 이름 출력\n",
    "print(my_char.hp)               # 설정하지 않은 속성은 기본속성\n",
    "\n",
    "my_char.walk()                  # 부모 클래스의 메서드를 사용가능\n",
    "\n",
    "my_char.magic()                 # 자식 클래스의 메서드 사용가능"
   ]
  }
 ],
 "metadata": {
  "kernelspec": {
   "display_name": "Python 3",
   "language": "python",
   "name": "python3"
  },
  "language_info": {
   "codemirror_mode": {
    "name": "ipython",
    "version": 3
   },
   "file_extension": ".py",
   "mimetype": "text/x-python",
   "name": "python",
   "nbconvert_exporter": "python",
   "pygments_lexer": "ipython3",
   "version": "3.10.6"
  }
 },
 "nbformat": 4,
 "nbformat_minor": 5
}
