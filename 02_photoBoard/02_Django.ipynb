{
 "cells": [
  {
   "cell_type": "markdown",
   "id": "389bd785",
   "metadata": {},
   "source": [
    "## Django 시작하기"
   ]
  },
  {
   "cell_type": "markdown",
   "id": "9c127929",
   "metadata": {},
   "source": [
    "### Django - 파이썬 기반 웹 풀스택 프레임워크 (MTV 패턴으로 개발 진행)"
   ]
  },
  {
   "cell_type": "markdown",
   "id": "fe7e7b38",
   "metadata": {},
   "source": [
    "- manage.py - 명령어를 처리하는 역할"
   ]
  },
  {
   "cell_type": "markdown",
   "id": "c59d71c2",
   "metadata": {},
   "source": [
    "- setting.py - 프로젝트의 설정파일"
   ]
  },
  {
   "cell_type": "markdown",
   "id": "82f1cf38",
   "metadata": {},
   "source": [
    "- urls.py - 프로젝트의 url 주소를 등록하는 파일"
   ]
  },
  {
   "cell_type": "markdown",
   "id": "ad79bf56",
   "metadata": {},
   "source": [
    "### MTV 패턴"
   ]
  },
  {
   "cell_type": "markdown",
   "id": "6e220b6e",
   "metadata": {},
   "source": [
    "- Model: 앱의 데이터와 관련된 부분\n",
    "- Template: 사용자에게 보이는 부분\n",
    "- View: Model의 데이터를 Template로 전달하고, Template에서 발생하는 이벤트를 처리"
   ]
  },
  {
   "cell_type": "markdown",
   "id": "975f1124",
   "metadata": {},
   "source": [
    "### Model \n",
    "- 데이터베이스에 저장될 데이터의 모양을 정의하고, 관련된 일부 기능들을 설정\n",
    "- 마이그레이션: 모델을 데이터베이스에 적용시키는 과정"
   ]
  },
  {
   "cell_type": "markdown",
   "id": "19d0732a",
   "metadata": {},
   "source": [
    "### Template\n",
    "- 사용자에게 보이는 html로 작성된 문서\n",
    "- Template tag: 파이썬으로부터 쉽게 데이터를 넘겨받을 수 있는 기능을 가진 태그, 파이썬 문법처럼 사용가능\n"
   ]
  },
  {
   "cell_type": "markdown",
   "id": "9c7f2037",
   "metadata": {},
   "source": [
    "## View\n",
    "- 템플릿과 모델 사이를 이어주는 다리 역할\n",
    "- 크게 함수형 뷰와 클래스형 뷰로 분류"
   ]
  }
 ],
 "metadata": {
  "language_info": {
   "name": "python"
  }
 },
 "nbformat": 4,
 "nbformat_minor": 5
}
